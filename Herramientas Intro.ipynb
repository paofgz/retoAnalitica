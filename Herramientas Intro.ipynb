{
 "cells": [
  {
   "cell_type": "code",
   "execution_count": 64,
   "id": "65cadcc6",
   "metadata": {},
   "outputs": [
    {
     "name": "stdout",
     "output_type": "stream",
     "text": [
      "How many numbers do you want to analyze?\n",
      "25\n",
      "[1, 2, 3, 5, 7, 11, 13, 17, 19, 23]\n"
     ]
    }
   ],
   "source": [
    "import math\n",
    "\n",
    "def is_prime(limit):\n",
    "    prime = []\n",
    "    for i in range(1, limit+1):\n",
    "        flag = True\n",
    "        if i > 2:\n",
    "            root = int(math.sqrt(i))\n",
    "            for n in range(2, root+1):\n",
    "                if (i % n) == 0:\n",
    "                    flag = False\n",
    "                    break\n",
    "        if flag == True:\n",
    "            prime.append(i)\n",
    "    return prime\n",
    "            \n",
    "print(\"How many numbers do you want to analyze?\")\n",
    "limit = int(input())\n",
    "prime = is_prime(limit)\n",
    "print(prime)"
   ]
  },
  {
   "cell_type": "code",
   "execution_count": 59,
   "id": "b7deaa94",
   "metadata": {},
   "outputs": [
    {
     "name": "stdout",
     "output_type": "stream",
     "text": [
      "Enter the components of the first vector\n",
      "x:\n",
      "3\n",
      "y:\n",
      "0\n",
      "z:\n",
      "2\n",
      "Enter the components of the second vector\n",
      "x:\n",
      "-1\n",
      "y:\n",
      "4\n",
      "z:\n",
      "2\n",
      "The result of the cross product is:  [-8.0, -8.0, 12.0]\n"
     ]
    }
   ],
   "source": [
    "def cross(lst1, lst2):\n",
    "    res = []\n",
    "    res.append((lst1[1] * lst2[2]) - (lst1[2] * lst2[1]))\n",
    "    res.append((lst1[2] * lst2[0]) - (lst1[0] * lst2[2]))\n",
    "    res.append((lst1[0] * lst2[1]) - (lst1[1] * lst2[0]))\n",
    "    return res\n",
    "\n",
    "print(\"Enter the components of the first vector\")\n",
    "lst = []\n",
    "print(\"x:\")\n",
    "lst.append(float(input()))\n",
    "print(\"y:\")\n",
    "lst.append(float(input()))\n",
    "print(\"z:\")\n",
    "lst.append(float(input()))\n",
    "print(\"Enter the components of the second vector\")\n",
    "lst2 = []\n",
    "print(\"x:\")\n",
    "lst2.append(float(input()))\n",
    "print(\"y:\")\n",
    "lst2.append(float(input()))\n",
    "print(\"z:\")\n",
    "lst2.append(float(input()))\n",
    "result = cross(lst, lst2)\n",
    "print(\"The result of the cross product is: \", result)"
   ]
  },
  {
   "cell_type": "code",
   "execution_count": 93,
   "id": "655d40ef",
   "metadata": {},
   "outputs": [
    {
     "name": "stdout",
     "output_type": "stream",
     "text": [
      "Result:  [-8.0, -8.0, 12.0]\n"
     ]
    }
   ],
   "source": [
    "def cross(lst1, lst2):\n",
    "    res = []\n",
    "    res.append((lst1[1] * lst2[2]) - (lst1[2] * lst2[1]))\n",
    "    res.append((lst1[2] * lst2[0]) - (lst1[0] * lst2[2]))\n",
    "    res.append((lst1[0] * lst2[1]) - (lst1[1] * lst2[0]))\n",
    "    return res\n",
    "\n",
    "def read_cross(file_name):\n",
    "    f = open(file_name, \"r\")\n",
    "    a = f.readline()\n",
    "    b = f.readline()\n",
    "    lst_str = a.replace(\"[\", \"\")\n",
    "    lst_str = lst_str.replace(\"]\", \"\")\n",
    "    lst_str = lst_str.replace(\"\\n\", \"\")\n",
    "    lst_str = lst_str.split(\",\")\n",
    "    lst = list(map(float, lst_str))\n",
    "    lst2_str = b.replace(\"[\", \"\")\n",
    "    lst2_str = lst2_str.replace(\"]\", \"\")\n",
    "    lst2 = lst2_str.split(\",\")\n",
    "    lst2 = list(map(float, lst2))\n",
    "    return cross(lst, lst2)\n",
    "        \n",
    "        \n",
    "path = \"./Vectors\"\n",
    "result = read_cross(path)\n",
    "print(\"Result: \", result)"
   ]
  }
 ],
 "metadata": {
  "kernelspec": {
   "display_name": "Python 3 (ipykernel)",
   "language": "python",
   "name": "python3"
  },
  "language_info": {
   "codemirror_mode": {
    "name": "ipython",
    "version": 3
   },
   "file_extension": ".py",
   "mimetype": "text/x-python",
   "name": "python",
   "nbconvert_exporter": "python",
   "pygments_lexer": "ipython3",
   "version": "3.9.12"
  }
 },
 "nbformat": 4,
 "nbformat_minor": 5
}
