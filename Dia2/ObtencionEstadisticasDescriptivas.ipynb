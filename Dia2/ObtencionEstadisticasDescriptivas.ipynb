{
 "cells": [
  {
   "cell_type": "markdown",
   "id": "6b990f6b",
   "metadata": {},
   "source": [
    "# Obtención de estadísticas descriptivas"
   ]
  },
  {
   "cell_type": "code",
   "execution_count": 22,
   "id": "e66087b5",
   "metadata": {},
   "outputs": [],
   "source": [
    "import pandas as pd\n",
    "import matplotlib.pyplot as plt\n",
    "import numpy as np\n",
    "import seaborn as sns; sns.set_theme()\n",
    "\n",
    "# Leer el archivo utilizando read_csv\n",
    "data = pd.read_csv(\"covid19_tweets.csv\")"
   ]
  },
  {
   "cell_type": "code",
   "execution_count": 3,
   "id": "e7891b06",
   "metadata": {},
   "outputs": [
    {
     "data": {
      "text/plain": [
       "user_name           74436\n",
       "user_location       59218\n",
       "user_description    70079\n",
       "user_created        74436\n",
       "user_followers      74436\n",
       "user_friends        74436\n",
       "user_favourites     74436\n",
       "user_verified       74436\n",
       "date                74436\n",
       "text                74436\n",
       "hashtags            53002\n",
       "source              74424\n",
       "is_retweet          74436\n",
       "dtype: int64"
      ]
     },
     "execution_count": 3,
     "metadata": {},
     "output_type": "execute_result"
    }
   ],
   "source": [
    "# Verificar la cantidad de datos\n",
    "data.count()"
   ]
  },
  {
   "cell_type": "code",
   "execution_count": 8,
   "id": "aaf7574d",
   "metadata": {},
   "outputs": [
    {
     "data": {
      "text/plain": [
       "Index(['user_name', 'user_location', 'user_description', 'user_created',\n",
       "       'user_followers', 'user_friends', 'user_favourites', 'user_verified',\n",
       "       'date', 'text', 'hashtags', 'source', 'is_retweet'],\n",
       "      dtype='object')"
      ]
     },
     "execution_count": 8,
     "metadata": {},
     "output_type": "execute_result"
    }
   ],
   "source": [
    "# Verificar las variables que contienen cada vector de datos y el tipo de variables\n",
    "data.columns"
   ]
  },
  {
   "cell_type": "code",
   "execution_count": 5,
   "id": "b8c01525",
   "metadata": {},
   "outputs": [
    {
     "data": {
      "text/plain": [
       "user_name           object\n",
       "user_location       object\n",
       "user_description    object\n",
       "user_created        object\n",
       "user_followers       int64\n",
       "user_friends         int64\n",
       "user_favourites      int64\n",
       "user_verified         bool\n",
       "date                object\n",
       "text                object\n",
       "hashtags            object\n",
       "source              object\n",
       "is_retweet            bool\n",
       "dtype: object"
      ]
     },
     "execution_count": 5,
     "metadata": {},
     "output_type": "execute_result"
    }
   ],
   "source": [
    "data.dtypes"
   ]
  },
  {
   "cell_type": "markdown",
   "id": "586b9ca1",
   "metadata": {},
   "source": [
    "Análisis de variables y rangos"
   ]
  },
  {
   "cell_type": "code",
   "execution_count": 12,
   "id": "de34b11f",
   "metadata": {},
   "outputs": [
    {
     "data": {
      "text/plain": [
       "count                  74436\n",
       "unique                 44853\n",
       "top       GlobalPandemic.NET\n",
       "freq                     312\n",
       "Name: user_name, dtype: object"
      ]
     },
     "execution_count": 12,
     "metadata": {},
     "output_type": "execute_result"
    }
   ],
   "source": [
    "data.iloc[:, 0].describe()"
   ]
  },
  {
   "cell_type": "markdown",
   "id": "e27dcde0",
   "metadata": {},
   "source": [
    "La variable user_name representa el nombre de usuario de la persona que realizó el tweet"
   ]
  },
  {
   "cell_type": "code",
   "execution_count": 13,
   "id": "825afa32",
   "metadata": {},
   "outputs": [
    {
     "data": {
      "text/plain": [
       "count     59218\n",
       "unique    14622\n",
       "top       India\n",
       "freq       1496\n",
       "Name: user_location, dtype: object"
      ]
     },
     "execution_count": 13,
     "metadata": {},
     "output_type": "execute_result"
    }
   ],
   "source": [
    "data.iloc[:, 1].describe()"
   ]
  },
  {
   "cell_type": "markdown",
   "id": "f94d0a0c",
   "metadata": {},
   "source": [
    "La variable user_location representa el lugar desde el que se realizó ese tweet, \n",
    "es posible observar que el lugar más común fue India"
   ]
  },
  {
   "cell_type": "code",
   "execution_count": 14,
   "id": "f3b7e2ec",
   "metadata": {},
   "outputs": [
    {
     "data": {
      "text/plain": [
       "count                                                 70079\n",
       "unique                                                42690\n",
       "top       Breaking News & Critical Information to SURVIV...\n",
       "freq                                                    312\n",
       "Name: user_description, dtype: object"
      ]
     },
     "execution_count": 14,
     "metadata": {},
     "output_type": "execute_result"
    }
   ],
   "source": [
    "data.iloc[:, 2].describe()"
   ]
  },
  {
   "cell_type": "markdown",
   "id": "d2b88b8a",
   "metadata": {},
   "source": [
    "La variable user_description representa la descripción del usuario que realizó el tweet. Podemos observar que el que más se repite tiene el mismo número de frecuencia que el user_name, esto es porque ese usuario fue el que más tweets sobre el covid 19 tiene, por lo tanto aparece que su username y su user_description es la más común. "
   ]
  },
  {
   "cell_type": "code",
   "execution_count": 15,
   "id": "0677e923",
   "metadata": {},
   "outputs": [
    {
     "data": {
      "text/plain": [
       "count                   74436\n",
       "unique                  45554\n",
       "top       2010-07-13 21:58:05\n",
       "freq                      312\n",
       "Name: user_created, dtype: object"
      ]
     },
     "execution_count": 15,
     "metadata": {},
     "output_type": "execute_result"
    }
   ],
   "source": [
    "data.iloc[:, 3].describe()"
   ]
  },
  {
   "cell_type": "markdown",
   "id": "a18fb848",
   "metadata": {},
   "source": [
    "La variable user_created representa la fecha de creación de twitter del usuario que realizó el tweet"
   ]
  },
  {
   "cell_type": "code",
   "execution_count": 16,
   "id": "ff8e6de8",
   "metadata": {},
   "outputs": [
    {
     "data": {
      "text/plain": [
       "count    7.443600e+04\n",
       "mean     1.059513e+05\n",
       "std      8.222900e+05\n",
       "min      0.000000e+00\n",
       "25%      1.660000e+02\n",
       "50%      9.600000e+02\n",
       "75%      5.148000e+03\n",
       "max      1.389284e+07\n",
       "Name: user_followers, dtype: float64"
      ]
     },
     "execution_count": 16,
     "metadata": {},
     "output_type": "execute_result"
    }
   ],
   "source": [
    "data.iloc[:, 4].describe()"
   ]
  },
  {
   "cell_type": "markdown",
   "id": "1382d43a",
   "metadata": {},
   "source": [
    "La variable user_followers representa la cantidad de usuarios que siguen a la cuenta que realizó el tweet, es posible observar que la mediana se encuentra en 10595, el mínimo número de seguidores es 0 y el máximo es 13892841 "
   ]
  },
  {
   "cell_type": "code",
   "execution_count": 17,
   "id": "0d47e360",
   "metadata": {},
   "outputs": [
    {
     "data": {
      "text/plain": [
       "count     74436.000000\n",
       "mean       2154.721170\n",
       "std        9365.587474\n",
       "min           0.000000\n",
       "25%         153.000000\n",
       "50%         552.000000\n",
       "75%        1780.250000\n",
       "max      497363.000000\n",
       "Name: user_friends, dtype: float64"
      ]
     },
     "execution_count": 17,
     "metadata": {},
     "output_type": "execute_result"
    }
   ],
   "source": [
    "data.iloc[:, 5].describe()"
   ]
  },
  {
   "cell_type": "markdown",
   "id": "0e6dbb22",
   "metadata": {},
   "source": [
    "La variable user_friends representa la cantidad de personas que la cuenta que realizó el tweet sigue"
   ]
  },
  {
   "cell_type": "code",
   "execution_count": 18,
   "id": "1fddd4f5",
   "metadata": {},
   "outputs": [
    {
     "data": {
      "text/plain": [
       "count    7.443600e+04\n",
       "mean     1.529747e+04\n",
       "std      4.668971e+04\n",
       "min      0.000000e+00\n",
       "25%      2.200000e+02\n",
       "50%      1.927000e+03\n",
       "75%      1.014800e+04\n",
       "max      2.047197e+06\n",
       "Name: user_favourites, dtype: float64"
      ]
     },
     "execution_count": 18,
     "metadata": {},
     "output_type": "execute_result"
    }
   ],
   "source": [
    "data.iloc[:, 6].describe()"
   ]
  },
  {
   "cell_type": "markdown",
   "id": "440f3944",
   "metadata": {},
   "source": [
    "La varibale user_favourites representa la cantidad de personas en común (que sigue y lo siguen) de la cuenta que realizó el tweet"
   ]
  },
  {
   "cell_type": "code",
   "execution_count": 19,
   "id": "33469db8",
   "metadata": {},
   "outputs": [
    {
     "data": {
      "text/plain": [
       "count     74436\n",
       "unique        2\n",
       "top       False\n",
       "freq      65082\n",
       "Name: user_verified, dtype: object"
      ]
     },
     "execution_count": 19,
     "metadata": {},
     "output_type": "execute_result"
    }
   ],
   "source": [
    "data.iloc[:, 7].describe()"
   ]
  },
  {
   "cell_type": "markdown",
   "id": "503c5574",
   "metadata": {},
   "source": [
    "La variable user_verified es un valor booleano que indica si la cuenta que realizó el tweet es una cuenta verificada, es importante notar que la mayor parte de las cuentas no están verificadas"
   ]
  },
  {
   "cell_type": "code",
   "execution_count": 20,
   "id": "97b656e4",
   "metadata": {},
   "outputs": [
    {
     "data": {
      "text/plain": [
       "count                   74436\n",
       "unique                  56546\n",
       "top       2020-07-29 16:30:00\n",
       "freq                       26\n",
       "Name: date, dtype: object"
      ]
     },
     "execution_count": 20,
     "metadata": {},
     "output_type": "execute_result"
    }
   ],
   "source": [
    "data.iloc[:, 8].describe()"
   ]
  },
  {
   "cell_type": "markdown",
   "id": "4e5420f9",
   "metadata": {},
   "source": [
    "La variable date indica la fecha en la cual se realizó un tweet, podemos observar que el día que hubieron más tweets sobre covid 19 fue el 29 de junio del 2020, con 26 tweets"
   ]
  },
  {
   "cell_type": "code",
   "execution_count": 21,
   "id": "f0e93f90",
   "metadata": {},
   "outputs": [
    {
     "data": {
      "text/plain": [
       "count                                                 74436\n",
       "unique                                                74312\n",
       "top       Greenland has no active cases of the novel cor...\n",
       "freq                                                      6\n",
       "Name: text, dtype: object"
      ]
     },
     "execution_count": 21,
     "metadata": {},
     "output_type": "execute_result"
    }
   ],
   "source": [
    "data.iloc[:, 9].describe()"
   ]
  },
  {
   "cell_type": "markdown",
   "id": "de254868",
   "metadata": {},
   "source": [
    "La variable text es donde se almacena el contenido del tweet."
   ]
  },
  {
   "cell_type": "code",
   "execution_count": 22,
   "id": "257e291b",
   "metadata": {},
   "outputs": [
    {
     "data": {
      "text/plain": [
       "count           53002\n",
       "unique          23445\n",
       "top       ['COVID19']\n",
       "freq            16004\n",
       "Name: hashtags, dtype: object"
      ]
     },
     "execution_count": 22,
     "metadata": {},
     "output_type": "execute_result"
    }
   ],
   "source": [
    "data.iloc[:, 10].describe()"
   ]
  },
  {
   "cell_type": "markdown",
   "id": "d9559a61",
   "metadata": {},
   "source": [
    "La variable hashtags indica los hashtags que fueron agregados a un tweet, se puede observar que el hashtag más utilizado fue COVID19 con 16004 tweets"
   ]
  },
  {
   "cell_type": "code",
   "execution_count": 23,
   "id": "95a3144d",
   "metadata": {},
   "outputs": [
    {
     "data": {
      "text/plain": [
       "count               74424\n",
       "unique                450\n",
       "top       Twitter Web App\n",
       "freq                22974\n",
       "Name: source, dtype: object"
      ]
     },
     "execution_count": 23,
     "metadata": {},
     "output_type": "execute_result"
    }
   ],
   "source": [
    "data.iloc[:, 11].describe()"
   ]
  },
  {
   "cell_type": "markdown",
   "id": "af69f87d",
   "metadata": {},
   "source": [
    "La varibale source representa el medio por el cual se realizó el tweet, se puede observar que la gran mayoría de los tweets se hicieron en la aplicación web de Twitter"
   ]
  },
  {
   "cell_type": "code",
   "execution_count": 24,
   "id": "0dfbef1b",
   "metadata": {},
   "outputs": [
    {
     "data": {
      "text/plain": [
       "count     74436\n",
       "unique        1\n",
       "top       False\n",
       "freq      74436\n",
       "Name: is_retweet, dtype: object"
      ]
     },
     "execution_count": 24,
     "metadata": {},
     "output_type": "execute_result"
    }
   ],
   "source": [
    "data.iloc[:, 12].describe()"
   ]
  },
  {
   "cell_type": "markdown",
   "id": "f43f09c0",
   "metadata": {},
   "source": [
    "Finalmente, la variable ir_retweet es un booleano que indica si el tweet fue retweet u original de la cuenta, podemos observar que la mayoría de los tweets son originales."
   ]
  },
  {
   "cell_type": "code",
   "execution_count": 25,
   "id": "26b3bf7e",
   "metadata": {},
   "outputs": [
    {
     "data": {
      "text/html": [
       "<div>\n",
       "<style scoped>\n",
       "    .dataframe tbody tr th:only-of-type {\n",
       "        vertical-align: middle;\n",
       "    }\n",
       "\n",
       "    .dataframe tbody tr th {\n",
       "        vertical-align: top;\n",
       "    }\n",
       "\n",
       "    .dataframe thead th {\n",
       "        text-align: right;\n",
       "    }\n",
       "</style>\n",
       "<table border=\"1\" class=\"dataframe\">\n",
       "  <thead>\n",
       "    <tr style=\"text-align: right;\">\n",
       "      <th></th>\n",
       "      <th>user_name</th>\n",
       "      <th>user_location</th>\n",
       "      <th>user_description</th>\n",
       "      <th>user_created</th>\n",
       "      <th>user_followers</th>\n",
       "      <th>user_friends</th>\n",
       "      <th>user_favourites</th>\n",
       "      <th>user_verified</th>\n",
       "      <th>date</th>\n",
       "      <th>text</th>\n",
       "      <th>hashtags</th>\n",
       "      <th>source</th>\n",
       "      <th>is_retweet</th>\n",
       "    </tr>\n",
       "  </thead>\n",
       "  <tbody>\n",
       "    <tr>\n",
       "      <th>6959</th>\n",
       "      <td>CGTN</td>\n",
       "      <td>Beijing, China</td>\n",
       "      <td>#SeeTheDifference with CGTN as we bring you st...</td>\n",
       "      <td>2013-01-24 03:18:59</td>\n",
       "      <td>13892841</td>\n",
       "      <td>69</td>\n",
       "      <td>104</td>\n",
       "      <td>True</td>\n",
       "      <td>2020-07-25 08:00:00</td>\n",
       "      <td>#VoicesfromBeltandRoad: #COVID19 rap song aler...</td>\n",
       "      <td>['VoicesfromBeltandRoad', 'COVID19']</td>\n",
       "      <td>Twitter Media Studio</td>\n",
       "      <td>False</td>\n",
       "    </tr>\n",
       "    <tr>\n",
       "      <th>13450</th>\n",
       "      <td>CGTN</td>\n",
       "      <td>Beijing, China</td>\n",
       "      <td>#SeeTheDifference with CGTN as we bring you st...</td>\n",
       "      <td>2013-01-24 03:18:59</td>\n",
       "      <td>13892839</td>\n",
       "      <td>69</td>\n",
       "      <td>104</td>\n",
       "      <td>True</td>\n",
       "      <td>2020-07-25 02:43:57</td>\n",
       "      <td>#China's civil aviation recovers as daily flig...</td>\n",
       "      <td>['China']</td>\n",
       "      <td>Twitter Web App</td>\n",
       "      <td>False</td>\n",
       "    </tr>\n",
       "    <tr>\n",
       "      <th>16194</th>\n",
       "      <td>CGTN</td>\n",
       "      <td>Beijing, China</td>\n",
       "      <td>#SeeTheDifference with CGTN as we bring you st...</td>\n",
       "      <td>2013-01-24 03:18:59</td>\n",
       "      <td>13892837</td>\n",
       "      <td>69</td>\n",
       "      <td>104</td>\n",
       "      <td>True</td>\n",
       "      <td>2020-07-25 00:27:38</td>\n",
       "      <td>On Friday, the #Chinese mainland reported:\\n \\...</td>\n",
       "      <td>['Chinese', 'Xinjiang']</td>\n",
       "      <td>Twitter Web App</td>\n",
       "      <td>False</td>\n",
       "    </tr>\n",
       "    <tr>\n",
       "      <th>235</th>\n",
       "      <td>CGTN</td>\n",
       "      <td>Beijing, China</td>\n",
       "      <td>#SeeTheDifference with CGTN as we bring you st...</td>\n",
       "      <td>2013-01-24 03:18:59</td>\n",
       "      <td>13892795</td>\n",
       "      <td>69</td>\n",
       "      <td>104</td>\n",
       "      <td>True</td>\n",
       "      <td>2020-07-25 12:20:00</td>\n",
       "      <td>#APEC reaffirms #COVID19 economic recovery pri...</td>\n",
       "      <td>['APEC', 'COVID19']</td>\n",
       "      <td>TweetDeck</td>\n",
       "      <td>False</td>\n",
       "    </tr>\n",
       "    <tr>\n",
       "      <th>2837</th>\n",
       "      <td>CGTN</td>\n",
       "      <td>Beijing, China</td>\n",
       "      <td>#SeeTheDifference with CGTN as we bring you st...</td>\n",
       "      <td>2013-01-24 03:18:59</td>\n",
       "      <td>13892793</td>\n",
       "      <td>69</td>\n",
       "      <td>104</td>\n",
       "      <td>True</td>\n",
       "      <td>2020-07-25 10:46:35</td>\n",
       "      <td>#COVID19 recovery can take weeks even for youn...</td>\n",
       "      <td>['COVID19']</td>\n",
       "      <td>Twitter Web App</td>\n",
       "      <td>False</td>\n",
       "    </tr>\n",
       "    <tr>\n",
       "      <th>5344</th>\n",
       "      <td>CGTN</td>\n",
       "      <td>Beijing, China</td>\n",
       "      <td>#SeeTheDifference with CGTN as we bring you st...</td>\n",
       "      <td>2013-01-24 03:18:59</td>\n",
       "      <td>13892792</td>\n",
       "      <td>69</td>\n",
       "      <td>104</td>\n",
       "      <td>True</td>\n",
       "      <td>2020-07-25 09:03:28</td>\n",
       "      <td>#HongKong reports 133 new confirmed #COVID19 c...</td>\n",
       "      <td>['HongKong', 'COVID19']</td>\n",
       "      <td>Twitter Web App</td>\n",
       "      <td>False</td>\n",
       "    </tr>\n",
       "    <tr>\n",
       "      <th>20483</th>\n",
       "      <td>CGTN</td>\n",
       "      <td>Beijing, China</td>\n",
       "      <td>#SeeTheDifference with CGTN as we bring you st...</td>\n",
       "      <td>2013-01-24 03:18:59</td>\n",
       "      <td>13892212</td>\n",
       "      <td>69</td>\n",
       "      <td>104</td>\n",
       "      <td>True</td>\n",
       "      <td>2020-07-26 06:40:00</td>\n",
       "      <td>#COVID19 #HongKong SAR government introduces n...</td>\n",
       "      <td>['COVID19', 'HongKong']</td>\n",
       "      <td>TweetDeck</td>\n",
       "      <td>False</td>\n",
       "    </tr>\n",
       "    <tr>\n",
       "      <th>20378</th>\n",
       "      <td>CGTN</td>\n",
       "      <td>Beijing, China</td>\n",
       "      <td>#SeeTheDifference with CGTN as we bring you st...</td>\n",
       "      <td>2013-01-24 03:18:59</td>\n",
       "      <td>13892212</td>\n",
       "      <td>69</td>\n",
       "      <td>104</td>\n",
       "      <td>True</td>\n",
       "      <td>2020-07-26 06:46:36</td>\n",
       "      <td>Global #COVID19 cases have surpassed 16 millio...</td>\n",
       "      <td>['COVID19']</td>\n",
       "      <td>Twitter Web App</td>\n",
       "      <td>False</td>\n",
       "    </tr>\n",
       "    <tr>\n",
       "      <th>24243</th>\n",
       "      <td>CGTN</td>\n",
       "      <td>Beijing, China</td>\n",
       "      <td>#SeeTheDifference with CGTN as we bring you st...</td>\n",
       "      <td>2013-01-24 03:18:59</td>\n",
       "      <td>13892212</td>\n",
       "      <td>69</td>\n",
       "      <td>104</td>\n",
       "      <td>True</td>\n",
       "      <td>2020-07-26 02:31:57</td>\n",
       "      <td>Live: Students and recent grads from China and...</td>\n",
       "      <td>['coronavirus', 'COVID19']</td>\n",
       "      <td>Periscope</td>\n",
       "      <td>False</td>\n",
       "    </tr>\n",
       "    <tr>\n",
       "      <th>23721</th>\n",
       "      <td>CGTN</td>\n",
       "      <td>Beijing, China</td>\n",
       "      <td>#SeeTheDifference with CGTN as we bring you st...</td>\n",
       "      <td>2013-01-24 03:18:59</td>\n",
       "      <td>13892212</td>\n",
       "      <td>69</td>\n",
       "      <td>104</td>\n",
       "      <td>True</td>\n",
       "      <td>2020-07-26 03:04:23</td>\n",
       "      <td>#DPRK sees 1st suspected #COVID19 case, adopts...</td>\n",
       "      <td>['DPRK', 'COVID19']</td>\n",
       "      <td>Twitter Web App</td>\n",
       "      <td>False</td>\n",
       "    </tr>\n",
       "  </tbody>\n",
       "</table>\n",
       "</div>"
      ],
      "text/plain": [
       "      user_name   user_location  \\\n",
       "6959       CGTN  Beijing, China   \n",
       "13450      CGTN  Beijing, China   \n",
       "16194      CGTN  Beijing, China   \n",
       "235        CGTN  Beijing, China   \n",
       "2837       CGTN  Beijing, China   \n",
       "5344       CGTN  Beijing, China   \n",
       "20483      CGTN  Beijing, China   \n",
       "20378      CGTN  Beijing, China   \n",
       "24243      CGTN  Beijing, China   \n",
       "23721      CGTN  Beijing, China   \n",
       "\n",
       "                                        user_description         user_created  \\\n",
       "6959   #SeeTheDifference with CGTN as we bring you st...  2013-01-24 03:18:59   \n",
       "13450  #SeeTheDifference with CGTN as we bring you st...  2013-01-24 03:18:59   \n",
       "16194  #SeeTheDifference with CGTN as we bring you st...  2013-01-24 03:18:59   \n",
       "235    #SeeTheDifference with CGTN as we bring you st...  2013-01-24 03:18:59   \n",
       "2837   #SeeTheDifference with CGTN as we bring you st...  2013-01-24 03:18:59   \n",
       "5344   #SeeTheDifference with CGTN as we bring you st...  2013-01-24 03:18:59   \n",
       "20483  #SeeTheDifference with CGTN as we bring you st...  2013-01-24 03:18:59   \n",
       "20378  #SeeTheDifference with CGTN as we bring you st...  2013-01-24 03:18:59   \n",
       "24243  #SeeTheDifference with CGTN as we bring you st...  2013-01-24 03:18:59   \n",
       "23721  #SeeTheDifference with CGTN as we bring you st...  2013-01-24 03:18:59   \n",
       "\n",
       "       user_followers  user_friends  user_favourites  user_verified  \\\n",
       "6959         13892841            69              104           True   \n",
       "13450        13892839            69              104           True   \n",
       "16194        13892837            69              104           True   \n",
       "235          13892795            69              104           True   \n",
       "2837         13892793            69              104           True   \n",
       "5344         13892792            69              104           True   \n",
       "20483        13892212            69              104           True   \n",
       "20378        13892212            69              104           True   \n",
       "24243        13892212            69              104           True   \n",
       "23721        13892212            69              104           True   \n",
       "\n",
       "                      date                                               text  \\\n",
       "6959   2020-07-25 08:00:00  #VoicesfromBeltandRoad: #COVID19 rap song aler...   \n",
       "13450  2020-07-25 02:43:57  #China's civil aviation recovers as daily flig...   \n",
       "16194  2020-07-25 00:27:38  On Friday, the #Chinese mainland reported:\\n \\...   \n",
       "235    2020-07-25 12:20:00  #APEC reaffirms #COVID19 economic recovery pri...   \n",
       "2837   2020-07-25 10:46:35  #COVID19 recovery can take weeks even for youn...   \n",
       "5344   2020-07-25 09:03:28  #HongKong reports 133 new confirmed #COVID19 c...   \n",
       "20483  2020-07-26 06:40:00  #COVID19 #HongKong SAR government introduces n...   \n",
       "20378  2020-07-26 06:46:36  Global #COVID19 cases have surpassed 16 millio...   \n",
       "24243  2020-07-26 02:31:57  Live: Students and recent grads from China and...   \n",
       "23721  2020-07-26 03:04:23  #DPRK sees 1st suspected #COVID19 case, adopts...   \n",
       "\n",
       "                                   hashtags                source  is_retweet  \n",
       "6959   ['VoicesfromBeltandRoad', 'COVID19']  Twitter Media Studio       False  \n",
       "13450                             ['China']       Twitter Web App       False  \n",
       "16194               ['Chinese', 'Xinjiang']       Twitter Web App       False  \n",
       "235                     ['APEC', 'COVID19']             TweetDeck       False  \n",
       "2837                            ['COVID19']       Twitter Web App       False  \n",
       "5344                ['HongKong', 'COVID19']       Twitter Web App       False  \n",
       "20483               ['COVID19', 'HongKong']             TweetDeck       False  \n",
       "20378                           ['COVID19']       Twitter Web App       False  \n",
       "24243            ['coronavirus', 'COVID19']             Periscope       False  \n",
       "23721                   ['DPRK', 'COVID19']       Twitter Web App       False  "
      ]
     },
     "execution_count": 25,
     "metadata": {},
     "output_type": "execute_result"
    }
   ],
   "source": [
    "# Conclusiones a partir de los datos obtenidos\n",
    "data.sort_values(by=\"user_followers\", ascending=False).head(10)"
   ]
  },
  {
   "cell_type": "markdown",
   "id": "cde82f59",
   "metadata": {},
   "source": [
    "Podemos observar que la cuenta con más seguidores es CGTN, una cuenta verificada de Beijing, China que realizó diferentes tweets sobre el covid, incluso se puede ver la fluctuación de followers que tuvo a diferentes horas y en diferentes días"
   ]
  },
  {
   "cell_type": "code",
   "execution_count": 52,
   "id": "77ffbac3",
   "metadata": {
    "scrolled": true
   },
   "outputs": [
    {
     "data": {
      "text/html": [
       "<div>\n",
       "<style scoped>\n",
       "    .dataframe tbody tr th:only-of-type {\n",
       "        vertical-align: middle;\n",
       "    }\n",
       "\n",
       "    .dataframe tbody tr th {\n",
       "        vertical-align: top;\n",
       "    }\n",
       "\n",
       "    .dataframe thead th {\n",
       "        text-align: right;\n",
       "    }\n",
       "</style>\n",
       "<table border=\"1\" class=\"dataframe\">\n",
       "  <thead>\n",
       "    <tr style=\"text-align: right;\">\n",
       "      <th></th>\n",
       "      <th>user_followers</th>\n",
       "      <th>user_friends</th>\n",
       "      <th>user_favourites</th>\n",
       "      <th>user_verified</th>\n",
       "      <th>is_retweet</th>\n",
       "    </tr>\n",
       "  </thead>\n",
       "  <tbody>\n",
       "    <tr>\n",
       "      <th>user_followers</th>\n",
       "      <td>1.000000</td>\n",
       "      <td>-0.002722</td>\n",
       "      <td>-0.028724</td>\n",
       "      <td>0.322896</td>\n",
       "      <td>NaN</td>\n",
       "    </tr>\n",
       "    <tr>\n",
       "      <th>user_friends</th>\n",
       "      <td>-0.002722</td>\n",
       "      <td>1.000000</td>\n",
       "      <td>0.207825</td>\n",
       "      <td>0.013099</td>\n",
       "      <td>NaN</td>\n",
       "    </tr>\n",
       "    <tr>\n",
       "      <th>user_favourites</th>\n",
       "      <td>-0.028724</td>\n",
       "      <td>0.207825</td>\n",
       "      <td>1.000000</td>\n",
       "      <td>-0.060316</td>\n",
       "      <td>NaN</td>\n",
       "    </tr>\n",
       "    <tr>\n",
       "      <th>user_verified</th>\n",
       "      <td>0.322896</td>\n",
       "      <td>0.013099</td>\n",
       "      <td>-0.060316</td>\n",
       "      <td>1.000000</td>\n",
       "      <td>NaN</td>\n",
       "    </tr>\n",
       "    <tr>\n",
       "      <th>is_retweet</th>\n",
       "      <td>NaN</td>\n",
       "      <td>NaN</td>\n",
       "      <td>NaN</td>\n",
       "      <td>NaN</td>\n",
       "      <td>NaN</td>\n",
       "    </tr>\n",
       "  </tbody>\n",
       "</table>\n",
       "</div>"
      ],
      "text/plain": [
       "                 user_followers  user_friends  user_favourites  user_verified  \\\n",
       "user_followers         1.000000     -0.002722        -0.028724       0.322896   \n",
       "user_friends          -0.002722      1.000000         0.207825       0.013099   \n",
       "user_favourites       -0.028724      0.207825         1.000000      -0.060316   \n",
       "user_verified          0.322896      0.013099        -0.060316       1.000000   \n",
       "is_retweet                  NaN           NaN              NaN            NaN   \n",
       "\n",
       "                 is_retweet  \n",
       "user_followers          NaN  \n",
       "user_friends            NaN  \n",
       "user_favourites         NaN  \n",
       "user_verified           NaN  \n",
       "is_retweet              NaN  "
      ]
     },
     "execution_count": 52,
     "metadata": {},
     "output_type": "execute_result"
    }
   ],
   "source": [
    "data.corr(method ='pearson')"
   ]
  },
  {
   "cell_type": "markdown",
   "id": "9641b34d",
   "metadata": {},
   "source": [
    "Así mismo se puede observar que hay una correlación relativamente alta entre el número de seguidores y si una cuenta es verificada. Una cuenta verificada podría indicar que es una fuente confiable, sin embargo si lo que determina la verificación de la cuenta es el número de seguidores, no necesariamente se tratan de datos verídicos y comprobables."
   ]
  }
 ],
 "metadata": {
  "kernelspec": {
   "display_name": "Python 3 (ipykernel)",
   "language": "python",
   "name": "python3"
  },
  "language_info": {
   "codemirror_mode": {
    "name": "ipython",
    "version": 3
   },
   "file_extension": ".py",
   "mimetype": "text/x-python",
   "name": "python",
   "nbconvert_exporter": "python",
   "pygments_lexer": "ipython3",
   "version": "3.9.7"
  }
 },
 "nbformat": 4,
 "nbformat_minor": 5
}
