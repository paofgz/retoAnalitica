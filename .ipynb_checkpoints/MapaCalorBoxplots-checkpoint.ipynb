{
 "cells": [
  {
   "cell_type": "markdown",
   "id": "53b1b586",
   "metadata": {},
   "source": [
    "Si comparas las variables, ¿todas están en rangos similares? (cajas)\n",
    "¿Crees que esto afecte? (se necesita o no que todas las variables estén en el mismo rango)\n",
    "¿Puedes encontrar grupos que se parezcan? ¿Qué grupos son estos? ("
   ]
  },
  {
   "cell_type": "code",
   "execution_count": null,
   "id": "2356f069",
   "metadata": {},
   "outputs": [],
   "source": [
    "import pandas as pd\n",
    "import matplotlib.pyplot as plt\n",
    "import numpy as np\n",
    "import seaborn as sns; sns.set_theme()\n",
    "\n",
    "# Leer el archivo utilizando read_csv\n",
    "data = pd.read_csv(\"covid19_tweets.csv\")"
   ]
  }
 ],
 "metadata": {
  "kernelspec": {
   "display_name": "Python 3 (ipykernel)",
   "language": "python",
   "name": "python3"
  },
  "language_info": {
   "codemirror_mode": {
    "name": "ipython",
    "version": 3
   },
   "file_extension": ".py",
   "mimetype": "text/x-python",
   "name": "python",
   "nbconvert_exporter": "python",
   "pygments_lexer": "ipython3",
   "version": "3.9.7"
  }
 },
 "nbformat": 4,
 "nbformat_minor": 5
}
